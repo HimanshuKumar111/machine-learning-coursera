{
 "cells": [
  {
   "cell_type": "code",
   "execution_count": 2,
   "metadata": {
    "collapsed": false
   },
   "outputs": [],
   "source": [
    "import numpy as np\n",
    "import matplotlib.pyplot as plt"
   ]
  },
  {
   "cell_type": "code",
   "execution_count": 22,
   "metadata": {
    "collapsed": true
   },
   "outputs": [],
   "source": [
    "def compute_cost(X,y,theta):\n",
    "    m = y.size\n",
    "    predictions = X.dot(theta).flatten()\n",
    "    sqErrors = (predictions-y)**2\n",
    "    J = (1.0/(2*m))*sqErrors.sum()\n",
    "    return J\n",
    "\n",
    "def gradient_descent(X,y,theta,alpha,num_iters):\n",
    "    m = y.size\n",
    "    J_history = zeros(shape=(num_iters, 1))\n",
    "    \n",
    "    for i in range(num_iters):\n",
    "        predictions = X.dot(theta).flatten()\n",
    "        error_x1 = (predictions-y)*X[:,0]\n",
    "        error_x2 = (predictions-y)*X[:,1]\n",
    "        \n",
    "        theta[0][0] = theta[0][0] - alpha*(1.0 / m) * errors_x1.sum()\n",
    "        theta[1][0] = theta[1][0] - alpha*(1.0 / m) * errors_x2.sum()\n",
    "        \n",
    "        J_history[i,0] = compute_cost(X,y,theta)\n",
    "    \n",
    "    return theta,J_history\n",
    "        "
   ]
  },
  {
   "cell_type": "code",
   "execution_count": 8,
   "metadata": {
    "collapsed": false
   },
   "outputs": [
    {
     "data": {
      "image/png": "[encoded data removed]",
      "text/plain": [
       "<matplotlib.figure.Figure at 0x10bdc88d0>"
      ]
     },
     "metadata": {},
     "output_type": "display_data"
    }
   ],
   "source": [
    "data = np.loadtxt('ex1data1.txt',delimiter=',')\n",
    "plt.scatter(data[:,0],data[:,1],marker='o',c='b')\n",
    "plt.title('Profits Distribution')\n",
    "plt.xlabel('Population of city in 10,000s')\n",
    "plt.ylabel('Profit in 10,000s')\n",
    "plt.show()"
   ]
  },
  {
   "cell_type": "code",
   "execution_count": 12,
   "metadata": {
    "collapsed": false
   },
   "outputs": [],
   "source": [
    "X = data[:,0]\n",
    "y = data[:,1]\n",
    "m = y.size\n",
    "\n",
    "it = np.ones(shape=(m,2))\n",
    "it[:,1] = X\n",
    "theta = np.zeros(shape=(2, 1))\n",
    "iterations = 1500\n",
    "alpha = 0.01\n",
    "\n",
    "print compute_cost(it, y, theta)\n",
    "theta, J_history = gradient_descent(it, y, theta, alpha, iterations)\n",
    "print theta"
   ]
  },
  {
   "cell_type": "code",
   "execution_count": null,
   "metadata": {
    "collapsed": true
   },
   "outputs": [],
   "source": []
  },
  {
   "cell_type": "code",
   "execution_count": null,
   "metadata": {
    "collapsed": true
   },
   "outputs": [],
   "source": []
  },
  {
   "cell_type": "code",
   "execution_count": null,
   "metadata": {
    "collapsed": true
   },
   "outputs": [],
   "source": []
  },
  {
   "cell_type": "code",
   "execution_count": null,
   "metadata": {
    "collapsed": true
   },
   "outputs": [],
   "source": []
  },
  {
   "cell_type": "code",
   "execution_count": null,
   "metadata": {
    "collapsed": true
   },
   "outputs": [],
   "source": []
  },
  {
   "cell_type": "code",
   "execution_count": null,
   "metadata": {
    "collapsed": true
   },
   "outputs": [],
   "source": []
  },
  {
   "cell_type": "code",
   "execution_count": null,
   "metadata": {
    "collapsed": true
   },
   "outputs": [],
   "source": []
  },
  {
   "cell_type": "code",
   "execution_count": null,
   "metadata": {
    "collapsed": true
   },
   "outputs": [],
   "source": []
  }
 ],
 "metadata": {
  "kernelspec": {
   "display_name": "Python)",
   "language": "python",
   "name": "envname"
  },
  "language_info": {
   "codemirror_mode": {
    "name": "ipython",
    "version": 2
   },
   "file_extension": ".py",
   "mimetype": "text/x-python",
   "name": "python",
   "nbconvert_exporter": "python",
   "pygments_lexer": "ipython2",
   "version": "2.7.10"
  }
 },
 "nbformat": 4,
 "nbformat_minor": 2
}
